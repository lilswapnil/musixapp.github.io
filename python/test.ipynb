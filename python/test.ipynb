{
 "cells": [
  {
   "cell_type": "markdown",
   "id": "05d71465",
   "metadata": {},
   "source": [
    "API Integration"
   ]
  },
  {
   "cell_type": "markdown",
   "id": "dd509855",
   "metadata": {},
   "source": [
    "Handle token expiry by refreshing the token when needed."
   ]
  },
  {
   "cell_type": "code",
   "execution_count": 1,
   "id": "b530de28",
   "metadata": {},
   "outputs": [],
   "source": [
    "# Spotify API credentials\n",
    "client_id = \"777c571d7da6439aaf522a3c54cbef52\"\n",
    "client_secret = \"854ab52143794b74a136f7b1396662fc\"\n",
    "redirect_uri = \"https://lilswapnil.github.io/musixapp.github.io/\""
   ]
  },
  {
   "cell_type": "code",
   "execution_count": null,
   "id": "646164ce",
   "metadata": {},
   "outputs": [
    {
     "name": "stdout",
     "output_type": "stream",
     "text": [
      "Please navigate to the following URL to authorize the application: https://accounts.spotify.com/authorize?client_id=777c571d7da6439aaf522a3c54cbef52&response_type=code&redirect_uri=https%3A%2F%2Flilswapnil.github.io%2Fmusixapp.github.io%2F&scope=user-read-playback-state+user-modify-playback-state+user-read-currently-playing\n"
     ]
    },
    {
     "name": "stderr",
     "output_type": "stream",
     "text": [
      "/var/folders/xt/sdswtc6d5tgfm472_hcz17rh0000gn/T/ipykernel_47416/3034065676.py:27: DeprecationWarning: You're using 'as_dict = True'.get_access_token will return the token string directly in future versions. Please adjust your code accordingly, or use get_cached_token instead.\n",
      "  token_info = sp_oauth.get_access_token(code)\n",
      "HTTP Error for GET to https://api.spotify.com/v1/recommendations with Params: {'limit': 5, 'seed_tracks': '30KctD1WsHKTIYczXjip5a'} returned 404 due to None\n"
     ]
    },
    {
     "name": "stdout",
     "output_type": "stream",
     "text": [
      "Currently playing: Tequila Shots by Kid Cudi\n",
      "Error fetching recommendations: http status: 404, code: -1 - https://api.spotify.com/v1/recommendations?limit=5&seed_tracks=30KctD1WsHKTIYczXjip5a:\n",
      " None, reason: None\n"
     ]
    },
    {
     "ename": "KeyboardInterrupt",
     "evalue": "",
     "output_type": "error",
     "traceback": [
      "\u001b[0;31m---------------------------------------------------------------------------\u001b[0m",
      "\u001b[0;31mKeyboardInterrupt\u001b[0m                         Traceback (most recent call last)",
      "Cell \u001b[0;32mIn[16], line 68\u001b[0m\n\u001b[1;32m     65\u001b[0m         time\u001b[38;5;241m.\u001b[39msleep(\u001b[38;5;241m240\u001b[39m)  \u001b[38;5;66;03m# Fetch data every 10 seconds\u001b[39;00m\n\u001b[1;32m     67\u001b[0m \u001b[38;5;28;01mif\u001b[39;00m \u001b[38;5;18m__name__\u001b[39m \u001b[38;5;241m==\u001b[39m \u001b[38;5;124m\"\u001b[39m\u001b[38;5;124m__main__\u001b[39m\u001b[38;5;124m\"\u001b[39m:\n\u001b[0;32m---> 68\u001b[0m     \u001b[43mmain\u001b[49m\u001b[43m(\u001b[49m\u001b[43m)\u001b[49m\n",
      "Cell \u001b[0;32mIn[16], line 65\u001b[0m, in \u001b[0;36mmain\u001b[0;34m()\u001b[0m\n\u001b[1;32m     63\u001b[0m \u001b[38;5;28;01mif\u001b[39;00m track_id:\n\u001b[1;32m     64\u001b[0m     get_recommendations(track_id)\n\u001b[0;32m---> 65\u001b[0m \u001b[43mtime\u001b[49m\u001b[38;5;241;43m.\u001b[39;49m\u001b[43msleep\u001b[49m\u001b[43m(\u001b[49m\u001b[38;5;241;43m240\u001b[39;49m\u001b[43m)\u001b[49m\n",
      "\u001b[0;31mKeyboardInterrupt\u001b[0m: "
     ]
    }
   ],
   "source": [
    "import spotipy\n",
    "from spotipy.oauth2 import SpotifyOAuth\n",
    "import time\n",
    "import webbrowser\n",
    "\n",
    "# Scope for accessing user's playback state\n",
    "scope = \"user-read-playback-state user-modify-playback-state user-read-currently-playing\"\n",
    "\n",
    "# Authenticate with Spotify\n",
    "sp_oauth = SpotifyOAuth(client_id=client_id,\n",
    "                        client_secret=client_secret,\n",
    "                        redirect_uri=redirect_uri,\n",
    "                        scope=scope)\n",
    "\n",
    "# Get the authorization URL\n",
    "auth_url = sp_oauth.get_authorize_url()\n",
    "print(f\"Please navigate to the following URL to authorize the application: {auth_url}\")\n",
    "\n",
    "# Open the authorization URL in the web browser\n",
    "webbrowser.open(auth_url)\n",
    "\n",
    "# Prompt user to enter the authorization code\n",
    "response = input(\"Enter the URL you were redirected to: \")\n",
    "\n",
    "# Extract the authorization code from the URL\n",
    "code = sp_oauth.parse_response_code(response)\n",
    "token_info = sp_oauth.get_access_token(code)\n",
    "\n",
    "# Create a Spotify client with the access token\n",
    "sp = spotipy.Spotify(auth=token_info['access_token'])\n",
    "\n",
    "def get_current_playback():\n",
    "    try:\n",
    "        current_playback = sp.current_playback()\n",
    "        if current_playback is not None:\n",
    "            track = current_playback['item']\n",
    "            artist = track['artists'][0]['name']\n",
    "            track_name = track['name']\n",
    "            track_id = track['id']\n",
    "            print(f\"Currently playing: {track_name} by {artist}\")\n",
    "            return track_id\n",
    "        else:\n",
    "            print(\"No track is currently playing.\")\n",
    "            return None\n",
    "    except Exception as e:\n",
    "        print(f\"Error fetching current playback: {e}\")\n",
    "        return None\n",
    "\n",
    "def get_recommendations(track_id):\n",
    "    try:\n",
    "        recommendations = sp.recommendations(seed_tracks=[track_id], limit=5)\n",
    "        print(\"Recommended tracks:\")\n",
    "        for track in recommendations['tracks']:\n",
    "            track_name = track['name']\n",
    "            artist = track['artists'][0]['name']\n",
    "            print(f\"{track_name} by {artist}\")\n",
    "    except Exception as e:\n",
    "        print(f\"Error fetching recommendations: {e}\")\n",
    "\n",
    "def main():\n",
    "    while True:\n",
    "        track_id = get_current_playback()\n",
    "        if track_id:\n",
    "            get_recommendations(track_id)\n",
    "        time.sleep(10)  # Fetch data every 10 seconds\n",
    "\n",
    "if __name__ == \"__main__\":\n",
    "    main()"
   ]
  }
 ],
 "metadata": {
  "kernelspec": {
   "display_name": ".venv",
   "language": "python",
   "name": "python3"
  },
  "language_info": {
   "codemirror_mode": {
    "name": "ipython",
    "version": 3
   },
   "file_extension": ".py",
   "mimetype": "text/x-python",
   "name": "python",
   "nbconvert_exporter": "python",
   "pygments_lexer": "ipython3",
   "version": "3.12.0"
  }
 },
 "nbformat": 4,
 "nbformat_minor": 5
}
