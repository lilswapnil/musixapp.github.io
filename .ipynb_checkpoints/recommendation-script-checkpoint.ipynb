{
 "cells": [
  {
   "cell_type": "code",
   "execution_count": 1,
   "id": "4849b561",
   "metadata": {},
   "outputs": [
    {
     "name": "stdout",
     "output_type": "stream",
     "text": [
      "Requirement already satisfied: spotipy in /Users/lilswapnil/anaconda3/lib/python3.11/site-packages (2.25.0)\n",
      "Requirement already satisfied: redis>=3.5.3 in /Users/lilswapnil/anaconda3/lib/python3.11/site-packages (from spotipy) (5.2.1)\n",
      "Requirement already satisfied: requests>=2.25.0 in /Users/lilswapnil/anaconda3/lib/python3.11/site-packages (from spotipy) (2.31.0)\n",
      "Requirement already satisfied: urllib3>=1.26.0 in /Users/lilswapnil/anaconda3/lib/python3.11/site-packages (from spotipy) (1.26.16)\n",
      "Requirement already satisfied: charset-normalizer<4,>=2 in /Users/lilswapnil/anaconda3/lib/python3.11/site-packages (from requests>=2.25.0->spotipy) (2.0.4)\n",
      "Requirement already satisfied: idna<4,>=2.5 in /Users/lilswapnil/anaconda3/lib/python3.11/site-packages (from requests>=2.25.0->spotipy) (3.4)\n",
      "Requirement already satisfied: certifi>=2017.4.17 in /Users/lilswapnil/anaconda3/lib/python3.11/site-packages (from requests>=2.25.0->spotipy) (2024.12.14)\n",
      "Note: you may need to restart the kernel to use updated packages.\n"
     ]
    }
   ],
   "source": [
    "pip install spotipy"
   ]
  },
  {
   "cell_type": "markdown",
   "id": "f3f73511",
   "metadata": {},
   "source": [
    "API"
   ]
  },
  {
   "cell_type": "code",
   "execution_count": 6,
   "id": "bfff77e4",
   "metadata": {},
   "outputs": [
    {
     "data": {
      "text/plain": [
       "True"
      ]
     },
     "execution_count": 6,
     "metadata": {},
     "output_type": "execute_result"
    }
   ],
   "source": [
    "import webbrowser\n",
    "from urllib.parse import urlencode\n",
    "\n",
    "# Spotify API credentials\n",
    "client_id = \"777c571d7da6439aaf522a3c54cbef52\"\n",
    "client_secret = \"854ab52143794b74a136f7b1396662fc\"\n",
    "\n",
    "# Authorization headers\n",
    "auth_headers = {\n",
    "    \"client_id\": client_id,\n",
    "    \"response_type\": \"code\",\n",
    "    \"redirect_uri\": \"https://lilswapnil.github.io/musixapp.github.io/\",\n",
    "    \"scope\": \"user-library-read\"\n",
    "}\n",
    "\n",
    "# Open the Spotify authorization URL in the default web browser\n",
    "webbrowser.open(\"https://accounts.spotify.com/authorize?\" + urlencode(auth_headers))"
   ]
  },
  {
   "cell_type": "code",
   "execution_count": null,
   "id": "14e307f4",
   "metadata": {},
   "outputs": [
    {
     "name": "stdout",
     "output_type": "stream",
     "text": [
      "Waiting for authorization code...\n"
     ]
    }
   ],
   "source": [
    "from http.server import BaseHTTPRequestHandler, HTTPServer\n",
    "import urllib.parse\n",
    "\n",
    "# Define a handler to capture the redirect\n",
    "class CallbackHandler(BaseHTTPRequestHandler):\n",
    "    def do_GET(self):\n",
    "        # Extract the authorization code from the URL\n",
    "        query = urllib.parse.urlparse(self.path).query\n",
    "        params = urllib.parse.parse_qs(query)\n",
    "        code = params.get('code', [None])[0]\n",
    "\n",
    "        if code:\n",
    "            print(\"Authorization code:\", code)\n",
    "            self.send_response(200)\n",
    "            self.end_headers()\n",
    "            self.wfile.write(b\"Authorization code received. You can close this window.\")\n",
    "            # Store the code for later use\n",
    "            self.server.auth_code = code\n",
    "        else:\n",
    "            self.send_response(400)\n",
    "            self.end_headers()\n",
    "            self.wfile.write(b\"Failed to retrieve authorization code.\")\n",
    "\n",
    "# Start the server\n",
    "def start_server():\n",
    "    server_address = ('localhost', 7777)\n",
    "    httpd = HTTPServer(server_address, CallbackHandler)\n",
    "    httpd.auth_code = code = \"AQAKDW6Eb_9CduzZwiNJR8ZynE1ssB3jpo5Jn6scu6cDVGkgbHgA4HznsERGTiLcMNOyx797fsezdvFM-C1Q6B864oGwO7Q46KXBJz89CSubAaC2s26aiWmyeUor23Akto9HH-3MQlKAyYwWAESNpxyODOZR7RxdZ4hmHI4wBBSLQAe6Zo3BUsBryQDvm2_RD_IbeI8BzR4FZejBFh--Sy2OpgYjL_I\"  # Placeholder for the auth code\n",
    "    print(\"Waiting for authorization code...\")\n",
    "    httpd.handle_request()  # Handle one request (the redirect)\n",
    "    return httpd.auth_code\n",
    "\n",
    "# Run the server and get the code\n",
    "auth_code = start_server()"
   ]
  },
  {
   "cell_type": "code",
   "execution_count": null,
   "id": "c6b68c8c",
   "metadata": {},
   "outputs": [],
   "source": []
  }
 ],
 "metadata": {
  "kernelspec": {
   "display_name": "Python 3",
   "language": "python",
   "name": "python3"
  },
  "language_info": {
   "codemirror_mode": {
    "name": "ipython",
    "version": 3
   },
   "file_extension": ".py",
   "mimetype": "text/x-python",
   "name": "python",
   "nbconvert_exporter": "python",
   "pygments_lexer": "ipython3",
   "version": "3.11.5"
  }
 },
 "nbformat": 4,
 "nbformat_minor": 5
}
